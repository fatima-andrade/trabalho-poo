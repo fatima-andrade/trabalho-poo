{
  "nbformat": 4,
  "nbformat_minor": 0,
  "metadata": {
    "colab": {
      "provenance": [],
      "authorship_tag": "ABX9TyMSimS+bVyQ9rPdrucoTQJV",
      "include_colab_link": true
    },
    "kernelspec": {
      "name": "python3",
      "display_name": "Python 3"
    },
    "language_info": {
      "name": "python"
    }
  },
  "cells": [
    {
      "cell_type": "markdown",
      "metadata": {
        "id": "view-in-github",
        "colab_type": "text"
      },
      "source": [
        "<a href=\"https://colab.research.google.com/github/fatima-andrade/trabalho-poo/blob/nova-ramifica%C3%A7%C3%A3o/Trabalho_POO.ipynb\" target=\"_parent\"><img src=\"https://colab.research.google.com/assets/colab-badge.svg\" alt=\"Open In Colab\"/></a>"
      ]
    },
    {
      "cell_type": "code",
      "execution_count": null,
      "metadata": {
        "colab": {
          "base_uri": "https://localhost:8080/"
        },
        "id": "5sN7ecJ8yYEN",
        "outputId": "1d4cda4b-75e7-45c1-fd83-90bb9fc7c560"
      },
      "outputs": [
        {
          "output_type": "stream",
          "name": "stdout",
          "text": [
            "5 x 5 = 25\n",
            "6 x 6 = 36\n",
            "7 x 7 = 49\n",
            "8 x 8 = 64\n",
            "9 x 9 = 81\n",
            "10 x 10 = 100\n",
            "11 x 11 = 121\n",
            "12 x 12 = 144\n",
            "13 x 13 = 169\n",
            "14 x 14 = 196\n",
            "15 x 15 = 225\n"
          ]
        }
      ],
      "source": [
        "for i in range(5, 16):\n",
        "  print(f\"{i} x {i} = {i * i}\")"
      ]
    },
    {
      "cell_type": "code",
      "source": [
        "cpf = input(\"Digite o CPF: \")\n",
        "\n",
        "quantidade_digitos = len(cpf.replace(\" \",\"\").replace(\".\",\"\").replace(\"-\",\"\"))\n",
        "\n",
        "print(f\"A quantidade de digitos do CPF é: {quantidade_digitos}\")"
      ],
      "metadata": {
        "colab": {
          "base_uri": "https://localhost:8080/"
        },
        "id": "iE4mL6Ulzwyg",
        "outputId": "dc52811e-ae91-41aa-97e2-fe3dc1bb8c2c"
      },
      "execution_count": null,
      "outputs": [
        {
          "output_type": "stream",
          "name": "stdout",
          "text": [
            "Digite o CPF: 068.916.693-16\n",
            "A quantidade de digitos do CPF é: 11\n"
          ]
        }
      ]
    },
    {
      "cell_type": "code",
      "source": [
        "n = int(input(\"Digite um numero para realizar o calculo: \"))\n",
        "\n",
        "a, b = 0, 1\n",
        "\n",
        "fibonacci = []\n",
        "fibonacci.append(a)\n",
        "fibonacci.append(b)\n",
        "\n",
        "for i in range(2, n + 1):\n",
        "  a, b = b, a + b\n",
        "  fibonacci.append(b)\n",
        "\n",
        "print(\"A serie de Fibonacci até o numero\", n, \"é:\", fibonacci)"
      ],
      "metadata": {
        "colab": {
          "base_uri": "https://localhost:8080/"
        },
        "id": "uu-GKBrT3Kv-",
        "outputId": "d1bff56e-60a8-423b-ae96-5f1f1fb980b6"
      },
      "execution_count": null,
      "outputs": [
        {
          "output_type": "stream",
          "name": "stdout",
          "text": [
            "Digite um numero para realizar o calculo: 7\n",
            "A serie de Fibonacci até o numero 7 é: [0, 1, 1, 2, 3, 5, 8, 13]\n"
          ]
        }
      ]
    },
    {
      "cell_type": "code",
      "source": [
        "def calcular_digitos(cpf_semdigitos):\n",
        "  soma = 0\n",
        "  for i in range(9):\n",
        "    soma += int(cpf_semdigitos[i]) * (10 - i)\n",
        "    primeiro_digito = (soma * 10) % 11\n",
        "    if primeiro_digito == 10:\n",
        "      primeiro_digito = 0\n",
        "\n",
        "  soma = 0\n",
        "  for i in range(10):\n",
        "    soma += int(cpf_semdigitos[i]) * (11 - i)\n",
        "  segundo_digito = (soma * 10) % 11\n",
        "  if segundo_digito == 10:\n",
        "     segundo_digito = 0\n",
        "\n",
        "  return str(primeiro_digito), str(segundo_digito)\n",
        "\n",
        "def validar_cpf(cpf):\n",
        "\n",
        "  cpf = cpf.replace(\" \",\"\").replace(\".\",\"\").replace(\"-\",\"\")\n",
        "\n",
        "  if len(cpf) != 11 or not cpf.isdigit():\n",
        "    return False\n",
        "\n",
        "  if cpf == cpf[0] * len(cpf):\n",
        "    return False\n",
        "\n",
        "  primeiro_digito, segundo_digito = calcular_digitos(cpf[:9])\n",
        "\n",
        "  return cpf[-2] == primeiro_digito and cpf[-1] == segundo_digito\n",
        "\n",
        "  cpf_informado = input(\"Digite o CPF: \")\n",
        "  if validar_cpf(cpf_informado):\n",
        "    print(\"O CPF é valido.\")\n",
        "  else:\n",
        "    print(\"O CPF é invalido.\")"
      ],
      "metadata": {
        "id": "ODyQEVhi5q9u"
      },
      "execution_count": 18,
      "outputs": []
    }
  ]
}