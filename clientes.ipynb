{
  "nbformat": 4,
  "nbformat_minor": 0,
  "metadata": {
    "colab": {
      "provenance": [],
      "authorship_tag": "ABX9TyOyrnjdMAIeowMj6uPm5DCw",
      "include_colab_link": true
    },
    "kernelspec": {
      "name": "python3",
      "display_name": "Python 3"
    },
    "language_info": {
      "name": "python"
    }
  },
  "cells": [
    {
      "cell_type": "markdown",
      "metadata": {
        "id": "view-in-github",
        "colab_type": "text"
      },
      "source": [
        "<a href=\"https://colab.research.google.com/github/fatima-andrade/trabalho-poo/blob/nova-ramifica%C3%A7%C3%A3o/clientes.ipynb\" target=\"_parent\"><img src=\"https://colab.research.google.com/assets/colab-badge.svg\" alt=\"Open In Colab\"/></a>"
      ]
    },
    {
      "cell_type": "code",
      "execution_count": 1,
      "metadata": {
        "id": "iA6IjMHitx0H"
      },
      "outputs": [],
      "source": [
        "#classe clientes:\n",
        "\n",
        "class Cliente:\n",
        "  def __init__(self, nome, telefone):\n",
        "    self.nome = nome\n",
        "    self.telefone = telefone\n",
        "\n",
        "\n"
      ]
    }
  ]
}